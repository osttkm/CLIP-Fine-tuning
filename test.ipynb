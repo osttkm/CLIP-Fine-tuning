{
 "cells": [
  {
   "cell_type": "code",
   "execution_count": 11,
   "metadata": {},
   "outputs": [
    {
     "ename": "UnboundLocalError",
     "evalue": "local variable 'scheduller' referenced before assignment",
     "output_type": "error",
     "traceback": [
      "\u001b[0;31m---------------------------------------------------------------------------\u001b[0m",
      "\u001b[0;31mUnboundLocalError\u001b[0m                         Traceback (most recent call last)",
      "Cell \u001b[0;32mIn[11], line 31\u001b[0m\n\u001b[1;32m     29\u001b[0m optimizer \u001b[39m=\u001b[39m torch\u001b[39m.\u001b[39moptim\u001b[39m.\u001b[39mAdam(model\u001b[39m.\u001b[39mparameters(), \u001b[39m0.001\u001b[39m)\n\u001b[1;32m     30\u001b[0m scheduler \u001b[39m=\u001b[39m torch\u001b[39m.\u001b[39moptim\u001b[39m.\u001b[39mlr_scheduler\u001b[39m.\u001b[39mCosineAnnealingLR(optimizer,T_max\u001b[39m=\u001b[39m\u001b[39m90\u001b[39m,eta_min\u001b[39m=\u001b[39m\u001b[39m0.001\u001b[39m\u001b[39m*\u001b[39m\u001b[39m0.01\u001b[39m)\n\u001b[0;32m---> 31\u001b[0m lr_plot(optimizer,scheduler)\n",
      "Cell \u001b[0;32mIn[11], line 13\u001b[0m, in \u001b[0;36mlr_plot\u001b[0;34m(optimizer, scheduler)\u001b[0m\n\u001b[1;32m     11\u001b[0m lrs \u001b[39m=\u001b[39m []\n\u001b[1;32m     12\u001b[0m optim \u001b[39m=\u001b[39m optimizer\n\u001b[0;32m---> 13\u001b[0m sche \u001b[39m=\u001b[39m scheduller\n\u001b[1;32m     14\u001b[0m \u001b[39mfor\u001b[39;00m epoch \u001b[39min\u001b[39;00m \u001b[39mrange\u001b[39m(\u001b[39m100\u001b[39m):\n\u001b[1;32m     16\u001b[0m     \u001b[39mif\u001b[39;00m epoch\u001b[39m<\u001b[39m\u001b[39m10\u001b[39m:\n",
      "\u001b[0;31mUnboundLocalError\u001b[0m: local variable 'scheduller' referenced before assignment"
     ]
    }
   ],
   "source": [
    "import torch\n",
    "from torch import nn\n",
    "import matplotlib.pyplot as plt\n",
    "from src.util import *\n",
    "\n",
    "model = nn.Sequential(nn.Linear(1, 1), nn.Linear(1, 1))\n",
    "\n",
    "\n",
    "# 学習率表示用\n",
    "def lr_plot(optimizer,scheduler):\n",
    "    lrs = []\n",
    "    optim = optimizer\n",
    "    sche = scheduler\n",
    "    for epoch in range(100):\n",
    "        \n",
    "        if epoch<10:\n",
    "            lr = create_lr(epoch)\n",
    "            optimizer = torch.optim.Adam(model.parameters(), lr)\n",
    "        else:\n",
    "            optimizer = optim\n",
    "            scheduller = sche\n",
    "\n",
    "        optimizer.step()\n",
    "        lrs.append(optimizer.param_groups[0][\"lr\"])\n",
    "        scheduler.step()\n",
    "\n",
    "    plt.plot(lrs)\n",
    "\n",
    "optimizer = torch.optim.Adam(model.parameters(), 0.001)\n",
    "scheduler = torch.optim.lr_scheduler.CosineAnnealingLR(optimizer,T_max=90,eta_min=0.001*0.01)\n",
    "lr_plot(optimizer,scheduler)"
   ]
  },
  {
   "cell_type": "code",
   "execution_count": null,
   "metadata": {},
   "outputs": [
    {
     "name": "stdout",
     "output_type": "stream",
     "text": [
      "['the circle is in the lower left of the image']\n"
     ]
    }
   ],
   "source": []
  }
 ],
 "metadata": {
  "kernelspec": {
   "display_name": "develop",
   "language": "python",
   "name": "python3"
  },
  "language_info": {
   "codemirror_mode": {
    "name": "ipython",
    "version": 3
   },
   "file_extension": ".py",
   "mimetype": "text/x-python",
   "name": "python",
   "nbconvert_exporter": "python",
   "pygments_lexer": "ipython3",
   "version": "3.9.16"
  },
  "orig_nbformat": 4
 },
 "nbformat": 4,
 "nbformat_minor": 2
}
